{
 "cells": [
  {
   "cell_type": "code",
   "execution_count": 1,
   "metadata": {},
   "outputs": [],
   "source": [
    "def percent_of_capital(p, b):\n",
    "    return ((p-(1-p)/b)+abs(p-(1-p)/b))/2\n",
    "def  bertrands_ballot_th(p, q):\n",
    "    return ((p-q)+abs(p-q))/(2*(p+q))"
   ]
  },
  {
   "cell_type": "code",
   "execution_count": 2,
   "metadata": {},
   "outputs": [
    {
     "name": "stdout",
     "output_type": "stream",
     "text": [
      "0.09999999999999998\n",
      "0.42857142857142855\n"
     ]
    }
   ],
   "source": [
    "print(percent_of_capital(.6, .8))\n",
    "print(bertrands_ballot_th(.3, .12))"
   ]
  },
  {
   "cell_type": "code",
   "execution_count": 145,
   "metadata": {},
   "outputs": [
    {
     "name": "stdout",
     "output_type": "stream",
     "text": [
      "0.205078125\n"
     ]
    }
   ],
   "source": [
    "def factorial(n):\n",
    "    if n < 0:\n",
    "        return \"error, perhaps try gamma fn\"\n",
    "    if (n == 1 or n == 0):\n",
    "        return 1\n",
    "    else:\n",
    "        return n * factorial(n-1)\n",
    "def nPr(n, r):\n",
    "    return factorial(n) / factorial(n - r)\n",
    "def nCr(n, r):\n",
    "    return factorial(n) / (factorial(n - r) * factorial(r))\n",
    "\n",
    "def binomial(n, p, x):\n",
    "    return nCr(n, x)*(p**x)*((1-p)**(n-x))"
   ]
  },
  {
   "cell_type": "code",
   "execution_count": 1,
   "metadata": {},
   "outputs": [],
   "source": [
    "class node:\n",
    "  def __init__(self, key):\n",
    "    self.up = None \n",
    "    self.down = None \n",
    "    self.key = key\n",
    "  def myfunc(self):\n",
    "    print(self.key)"
   ]
  },
  {
   "cell_type": "code",
   "execution_count": 5,
   "metadata": {},
   "outputs": [],
   "source": []
  },
  {
   "cell_type": "code",
   "execution_count": 146,
   "metadata": {},
   "outputs": [],
   "source": [
    "def make_tree_helper(r, n, a):\n",
    "    #import ipdb; ipdb.set_trace() # debugging starts here\n",
    "    if (n == 0):\n",
    "        r.up = a\n",
    "        r.down = a\n",
    "        return r\n",
    "    else:\n",
    "        r.up = make_tree_helper(node(2*a+1), n - 1, 2*a+1)\n",
    "        r.down = make_tree_helper(node(2*a), n - 1, 2*a)\n",
    "    return r\n",
    "def make_tree(n):\n",
    "    return make_tree_helper(node(1), n, 1)"
   ]
  },
  {
   "cell_type": "code",
   "execution_count": 147,
   "metadata": {},
   "outputs": [
    {
     "name": "stdout",
     "output_type": "stream",
     "text": [
      "1\n"
     ]
    }
   ],
   "source": [
    "print(make_tree(0).key)"
   ]
  },
  {
   "cell_type": "code",
   "execution_count": 119,
   "metadata": {},
   "outputs": [
    {
     "name": "stdout",
     "output_type": "stream",
     "text": [
      "1\n"
     ]
    }
   ],
   "source": []
  },
  {
   "cell_type": "code",
   "execution_count": null,
   "metadata": {},
   "outputs": [],
   "source": []
  }
 ],
 "metadata": {
  "kernelspec": {
   "display_name": "Python 3",
   "language": "python",
   "name": "python3"
  },
  "language_info": {
   "codemirror_mode": {
    "name": "ipython",
    "version": 3
   },
   "file_extension": ".py",
   "mimetype": "text/x-python",
   "name": "python",
   "nbconvert_exporter": "python",
   "pygments_lexer": "ipython3",
   "version": "3.6.3"
  }
 },
 "nbformat": 4,
 "nbformat_minor": 2
}
