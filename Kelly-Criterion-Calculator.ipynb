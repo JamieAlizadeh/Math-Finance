{
 "cells": [
  {
   "cell_type": "code",
   "execution_count": 1,
   "metadata": {},
   "outputs": [],
   "source": [
    "def max(a, b):\n",
    "    return (a + b + abs(a - b))/2\n",
    "def ReLU(x):\n",
    "    return max(x, 0)\n",
    "def percent_of_capital(p, b):\n",
    "    return ReLU(p-(1-p)/b)\n",
    "def bertrands_ballot_th(p, q):\n",
    "    return ReLU((p-q)/(p+q))"
   ]
  },
  {
   "cell_type": "code",
   "execution_count": 2,
   "metadata": {},
   "outputs": [
    {
     "name": "stdout",
     "output_type": "stream",
     "text": [
      "0.09999999999999998\n",
      "0.42857142857142855\n"
     ]
    }
   ],
   "source": [
    "print(percent_of_capital(.6, .8))\n",
    "print(bertrands_ballot_th(.3, .12))"
   ]
  },
  {
   "cell_type": "code",
   "execution_count": 3,
   "metadata": {},
   "outputs": [],
   "source": [
    "def factorial(n):\n",
    "    if n < 0:\n",
    "        return \"error, perhaps try gamma fn\"\n",
    "    if (n == 1 or n == 0):\n",
    "        return 1\n",
    "    else:\n",
    "        return n * factorial(n-1)\n",
    "def nPr(n, r):\n",
    "    return factorial(n) / factorial(n - r)\n",
    "def nCr(n, r):\n",
    "    return factorial(n) / (factorial(n - r) * factorial(r))\n",
    "\n",
    "def binomial(n, p, x):\n",
    "    return nCr(n, x)*(p**x)*((1-p)**(n-x))"
   ]
  },
  {
   "cell_type": "code",
   "execution_count": 15,
   "metadata": {},
   "outputs": [],
   "source": [
    "class node:\n",
    "  def __init__(self, key):\n",
    "    self.up = None \n",
    "    self.down = None \n",
    "    self.key = key\n",
    "  def myfunc(self):\n",
    "    print(self.key)"
   ]
  },
  {
   "cell_type": "code",
   "execution_count": 16,
   "metadata": {},
   "outputs": [],
   "source": [
    "from math import e, sqrt\n",
    "\n",
    "\"\"\"CRR \"\"\"\n",
    "\n",
    "class binomial_option:\n",
    "  def __init__(self, S, K, r, Q, tau, n, sigma):\n",
    "    self.S = S\n",
    "    self.K = K\n",
    "    self.r = r\n",
    "    self.Q = Q\n",
    "    self.tau = tau\n",
    "    self.n = n\n",
    "    self.h = tau/n\n",
    "    self.sigma = sigma\n",
    "    self.u = e ** (sigma * sqrt(self.h))\n",
    "    self.d = 1 / self.u\n",
    "    self.p = (e ** ((r-Q)*sqrt(self.h)) - self.d)/(self.u - self.d)\n",
    "    \n",
    "    def node_value(self, num_of_ups):\n",
    "        return self.S * self.u ** (2*num_of_ups - self.n)\n",
    "  \n",
    "    def american_put_price(self):\n",
    "        return 0\n",
    "    def american_call_price(self):\n",
    "        return 0\n",
    "    def european_put_price(self):\n",
    "        return 0\n",
    "    def european_call_price(self):\n",
    "        return 0\n",
    "\n",
    "class derivative(binomial_option):\n",
    "  def __init__(self, delta, vega, theta, rho):\n",
    "    self.delta = None\n",
    "    self.gamma = None\n",
    "    self.vega = None\n",
    "    self.theta = None\n",
    "    self.rho = None"
   ]
  },
  {
   "cell_type": "code",
   "execution_count": 61,
   "metadata": {},
   "outputs": [],
   "source": [
    "def make_tree_helper(r, n, a):\n",
    "    #import ipdb; ipdb.set_trace() # debugging starts here\n",
    "    if (n == 0):\n",
    "        return r\n",
    "    else:\n",
    "        r.up = make_tree_helper(node(2*a+1), n - 1, 2*a+1)\n",
    "        r.down = make_tree_helper(node(2*a), n - 1, 2*a)\n",
    "    return r\n",
    "def make_tree(n):\n",
    "    return make_tree_helper(node(1), n, 1)\n",
    "def num_nodes(root):\n",
    "    if (not (isinstance(root, node))):\n",
    "        return 0\n",
    "    return num_nodes_helper(root, 1)\n",
    "def num_nodes_helper(root, a):\n",
    "    if (isinstance(root.up, node)):\n",
    "        if (isinstance(root.down, node)):\n",
    "            return (a + num_nodes_helper(root.up, a) \n",
    "                    + num_nodes_helper(root.down, a))\n",
    "        return a + num_nodes_helper(root.up, a)\n",
    "    if (isinstance(root.down, node)):\n",
    "        return a + num_nodes_helper(root.down, a)\n",
    "    return a     \n",
    "def flatten(root):\n",
    "    pass"
   ]
  },
  {
   "cell_type": "code",
   "execution_count": 64,
   "metadata": {},
   "outputs": [
    {
     "name": "stdout",
     "output_type": "stream",
     "text": [
      "6\n",
      "3\n",
      "7\n",
      "15\n",
      "31\n",
      "63\n",
      "127\n"
     ]
    }
   ],
   "source": [
    "ex_node = node(0)\n",
    "ex_node.up = node(2)\n",
    "ex_node.up.up = node(1)\n",
    "ex_node.up.up.up = node(1)\n",
    "ex_node.up.up.up.up = node(1)\n",
    "ex_node.up.down = node(3)\n",
    "\n",
    "print(num_nodes(ex_node))\n",
    "print(num_nodes(make_tree(1)))\n",
    "print(num_nodes(make_tree(2)))\n",
    "print(num_nodes(make_tree(3)))\n",
    "print(num_nodes(make_tree(4)))\n",
    "print(num_nodes(make_tree(5)))\n",
    "print(num_nodes(make_tree(6)))"
   ]
  },
  {
   "cell_type": "code",
   "execution_count": null,
   "metadata": {},
   "outputs": [],
   "source": [
    "\"\"\"FinancialDerivative[{\"American\", \"Put\"}, {\"StrikePrice\" -> 90, \n",
    "  \"Expiration\" -> 1}, {\"InterestRate\" -> 0.1, \"Volatility\" -> 0.18, \n",
    "  \"CurrentPrice\" -> 100, \"Dividend\" -> 0.}, Method -> \"Binomial\"]\n",
    "  \n",
    "  1.2625\n",
    "  \n",
    "  FinancialDerivative[{\"European\", \"Call\"}, {\"StrikePrice\" -> 50.00, \n",
    "\"Expiration\" -> 1}, {\"InterestRate\" -> 0.1, \"Volatility\" -> 0.5, \n",
    "\"CurrentPrice\" -> 50, \"Dividend\" -> 0.05}, {\"Value\", \"Greeks\"}]\n",
    "\n",
    "{10.3649, {\"Delta\" -> 0.60577, \"Gamma\" -> 0.0142774, \"Rho\" -> 19.9236, \"Theta\" -> -4.93963, \"Vega\" -> 17.8471}}\"\"\"\n",
    "\n"
   ]
  }
 ],
 "metadata": {
  "kernelspec": {
   "display_name": "Python 3",
   "language": "python",
   "name": "python3"
  },
  "language_info": {
   "codemirror_mode": {
    "name": "ipython",
    "version": 3
   },
   "file_extension": ".py",
   "mimetype": "text/x-python",
   "name": "python",
   "nbconvert_exporter": "python",
   "pygments_lexer": "ipython3",
   "version": "3.6.3"
  }
 },
 "nbformat": 4,
 "nbformat_minor": 2
}
